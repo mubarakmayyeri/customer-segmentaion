{
 "cells": [
  {
   "cell_type": "markdown",
   "id": "3186adde",
   "metadata": {},
   "source": [
    "# Customer segmentaion using K-means clustering"
   ]
  },
  {
   "cell_type": "code",
   "execution_count": 1,
   "id": "352f7f23",
   "metadata": {},
   "outputs": [],
   "source": [
    "#importing libraries\n",
    "import pandas as pd\n",
    "import numpy as np\n",
    "import matplotlib.pyplot as plt\n",
    "import seaborn as sns\n",
    "import warnings\n",
    "warnings.filterwarnings('ignore')"
   ]
  },
  {
   "cell_type": "markdown",
   "id": "b3faa987",
   "metadata": {},
   "source": [
    "### Reading Dataset"
   ]
  },
  {
   "cell_type": "code",
   "execution_count": 2,
   "id": "a8596d5e",
   "metadata": {},
   "outputs": [
    {
     "data": {
      "text/html": [
       "<div>\n",
       "<style scoped>\n",
       "    .dataframe tbody tr th:only-of-type {\n",
       "        vertical-align: middle;\n",
       "    }\n",
       "\n",
       "    .dataframe tbody tr th {\n",
       "        vertical-align: top;\n",
       "    }\n",
       "\n",
       "    .dataframe thead th {\n",
       "        text-align: right;\n",
       "    }\n",
       "</style>\n",
       "<table border=\"1\" class=\"dataframe\">\n",
       "  <thead>\n",
       "    <tr style=\"text-align: right;\">\n",
       "      <th></th>\n",
       "      <th>CustomerID</th>\n",
       "      <th>Gender</th>\n",
       "      <th>Age</th>\n",
       "      <th>Annual Income (k$)</th>\n",
       "      <th>Spending Score (1-100)</th>\n",
       "    </tr>\n",
       "  </thead>\n",
       "  <tbody>\n",
       "    <tr>\n",
       "      <th>0</th>\n",
       "      <td>1</td>\n",
       "      <td>Male</td>\n",
       "      <td>19</td>\n",
       "      <td>15</td>\n",
       "      <td>39</td>\n",
       "    </tr>\n",
       "    <tr>\n",
       "      <th>1</th>\n",
       "      <td>2</td>\n",
       "      <td>Male</td>\n",
       "      <td>21</td>\n",
       "      <td>15</td>\n",
       "      <td>81</td>\n",
       "    </tr>\n",
       "    <tr>\n",
       "      <th>2</th>\n",
       "      <td>3</td>\n",
       "      <td>Female</td>\n",
       "      <td>20</td>\n",
       "      <td>16</td>\n",
       "      <td>6</td>\n",
       "    </tr>\n",
       "    <tr>\n",
       "      <th>3</th>\n",
       "      <td>4</td>\n",
       "      <td>Female</td>\n",
       "      <td>23</td>\n",
       "      <td>16</td>\n",
       "      <td>77</td>\n",
       "    </tr>\n",
       "    <tr>\n",
       "      <th>4</th>\n",
       "      <td>5</td>\n",
       "      <td>Female</td>\n",
       "      <td>31</td>\n",
       "      <td>17</td>\n",
       "      <td>40</td>\n",
       "    </tr>\n",
       "  </tbody>\n",
       "</table>\n",
       "</div>"
      ],
      "text/plain": [
       "   CustomerID  Gender  Age  Annual Income (k$)  Spending Score (1-100)\n",
       "0           1    Male   19                  15                      39\n",
       "1           2    Male   21                  15                      81\n",
       "2           3  Female   20                  16                       6\n",
       "3           4  Female   23                  16                      77\n",
       "4           5  Female   31                  17                      40"
      ]
     },
     "execution_count": 2,
     "metadata": {},
     "output_type": "execute_result"
    }
   ],
   "source": [
    "df = pd.read_csv('data/Mall_Customers.csv')\n",
    "\n",
    "df.head()"
   ]
  },
  {
   "cell_type": "code",
   "execution_count": 3,
   "id": "26bf1394",
   "metadata": {},
   "outputs": [
    {
     "data": {
      "text/plain": [
       "(200, 5)"
      ]
     },
     "execution_count": 3,
     "metadata": {},
     "output_type": "execute_result"
    }
   ],
   "source": [
    "df.shape"
   ]
  },
  {
   "cell_type": "code",
   "execution_count": 4,
   "id": "385e89d3",
   "metadata": {},
   "outputs": [
    {
     "name": "stdout",
     "output_type": "stream",
     "text": [
      "<class 'pandas.core.frame.DataFrame'>\n",
      "RangeIndex: 200 entries, 0 to 199\n",
      "Data columns (total 5 columns):\n",
      " #   Column                  Non-Null Count  Dtype \n",
      "---  ------                  --------------  ----- \n",
      " 0   CustomerID              200 non-null    int64 \n",
      " 1   Gender                  200 non-null    object\n",
      " 2   Age                     200 non-null    int64 \n",
      " 3   Annual Income (k$)      200 non-null    int64 \n",
      " 4   Spending Score (1-100)  200 non-null    int64 \n",
      "dtypes: int64(4), object(1)\n",
      "memory usage: 7.9+ KB\n"
     ]
    }
   ],
   "source": [
    "df.info()"
   ]
  },
  {
   "cell_type": "code",
   "execution_count": 5,
   "id": "838b0729",
   "metadata": {},
   "outputs": [
    {
     "data": {
      "text/plain": [
       "Index(['CustomerID', 'Gender', 'Age', 'Annual Income (k$)',\n",
       "       'Spending Score (1-100)'],\n",
       "      dtype='object')"
      ]
     },
     "execution_count": 5,
     "metadata": {},
     "output_type": "execute_result"
    }
   ],
   "source": [
    "df.columns"
   ]
  },
  {
   "cell_type": "code",
   "execution_count": 6,
   "id": "e9c939fd",
   "metadata": {},
   "outputs": [],
   "source": [
    "df.rename(columns= { 'Annual Income (k$)': 'annual_income', 'Spending Score (1-100)': 'spending_score'}, inplace=True)"
   ]
  },
  {
   "cell_type": "code",
   "execution_count": 7,
   "id": "48de6900",
   "metadata": {},
   "outputs": [
    {
     "data": {
      "text/html": [
       "<div>\n",
       "<style scoped>\n",
       "    .dataframe tbody tr th:only-of-type {\n",
       "        vertical-align: middle;\n",
       "    }\n",
       "\n",
       "    .dataframe tbody tr th {\n",
       "        vertical-align: top;\n",
       "    }\n",
       "\n",
       "    .dataframe thead th {\n",
       "        text-align: right;\n",
       "    }\n",
       "</style>\n",
       "<table border=\"1\" class=\"dataframe\">\n",
       "  <thead>\n",
       "    <tr style=\"text-align: right;\">\n",
       "      <th></th>\n",
       "      <th>CustomerID</th>\n",
       "      <th>Gender</th>\n",
       "      <th>Age</th>\n",
       "      <th>annual_income</th>\n",
       "      <th>spending_score</th>\n",
       "    </tr>\n",
       "  </thead>\n",
       "  <tbody>\n",
       "    <tr>\n",
       "      <th>0</th>\n",
       "      <td>1</td>\n",
       "      <td>Male</td>\n",
       "      <td>19</td>\n",
       "      <td>15</td>\n",
       "      <td>39</td>\n",
       "    </tr>\n",
       "    <tr>\n",
       "      <th>1</th>\n",
       "      <td>2</td>\n",
       "      <td>Male</td>\n",
       "      <td>21</td>\n",
       "      <td>15</td>\n",
       "      <td>81</td>\n",
       "    </tr>\n",
       "    <tr>\n",
       "      <th>2</th>\n",
       "      <td>3</td>\n",
       "      <td>Female</td>\n",
       "      <td>20</td>\n",
       "      <td>16</td>\n",
       "      <td>6</td>\n",
       "    </tr>\n",
       "    <tr>\n",
       "      <th>3</th>\n",
       "      <td>4</td>\n",
       "      <td>Female</td>\n",
       "      <td>23</td>\n",
       "      <td>16</td>\n",
       "      <td>77</td>\n",
       "    </tr>\n",
       "    <tr>\n",
       "      <th>4</th>\n",
       "      <td>5</td>\n",
       "      <td>Female</td>\n",
       "      <td>31</td>\n",
       "      <td>17</td>\n",
       "      <td>40</td>\n",
       "    </tr>\n",
       "  </tbody>\n",
       "</table>\n",
       "</div>"
      ],
      "text/plain": [
       "   CustomerID  Gender  Age  annual_income  spending_score\n",
       "0           1    Male   19             15              39\n",
       "1           2    Male   21             15              81\n",
       "2           3  Female   20             16               6\n",
       "3           4  Female   23             16              77\n",
       "4           5  Female   31             17              40"
      ]
     },
     "execution_count": 7,
     "metadata": {},
     "output_type": "execute_result"
    }
   ],
   "source": [
    "df.head()"
   ]
  },
  {
   "cell_type": "markdown",
   "id": "397278be",
   "metadata": {},
   "source": [
    "### Exploratory Data Analysis"
   ]
  },
  {
   "cell_type": "code",
   "execution_count": 8,
   "id": "019f3f85",
   "metadata": {},
   "outputs": [
    {
     "data": {
      "text/html": [
       "<div>\n",
       "<style scoped>\n",
       "    .dataframe tbody tr th:only-of-type {\n",
       "        vertical-align: middle;\n",
       "    }\n",
       "\n",
       "    .dataframe tbody tr th {\n",
       "        vertical-align: top;\n",
       "    }\n",
       "\n",
       "    .dataframe thead th {\n",
       "        text-align: right;\n",
       "    }\n",
       "</style>\n",
       "<table border=\"1\" class=\"dataframe\">\n",
       "  <thead>\n",
       "    <tr style=\"text-align: right;\">\n",
       "      <th></th>\n",
       "      <th>count</th>\n",
       "      <th>mean</th>\n",
       "      <th>std</th>\n",
       "      <th>min</th>\n",
       "      <th>25%</th>\n",
       "      <th>50%</th>\n",
       "      <th>75%</th>\n",
       "      <th>max</th>\n",
       "    </tr>\n",
       "  </thead>\n",
       "  <tbody>\n",
       "    <tr>\n",
       "      <th>CustomerID</th>\n",
       "      <td>200.0</td>\n",
       "      <td>100.50</td>\n",
       "      <td>57.879185</td>\n",
       "      <td>1.0</td>\n",
       "      <td>50.75</td>\n",
       "      <td>100.5</td>\n",
       "      <td>150.25</td>\n",
       "      <td>200.0</td>\n",
       "    </tr>\n",
       "    <tr>\n",
       "      <th>Age</th>\n",
       "      <td>200.0</td>\n",
       "      <td>38.85</td>\n",
       "      <td>13.969007</td>\n",
       "      <td>18.0</td>\n",
       "      <td>28.75</td>\n",
       "      <td>36.0</td>\n",
       "      <td>49.00</td>\n",
       "      <td>70.0</td>\n",
       "    </tr>\n",
       "    <tr>\n",
       "      <th>annual_income</th>\n",
       "      <td>200.0</td>\n",
       "      <td>60.56</td>\n",
       "      <td>26.264721</td>\n",
       "      <td>15.0</td>\n",
       "      <td>41.50</td>\n",
       "      <td>61.5</td>\n",
       "      <td>78.00</td>\n",
       "      <td>137.0</td>\n",
       "    </tr>\n",
       "    <tr>\n",
       "      <th>spending_score</th>\n",
       "      <td>200.0</td>\n",
       "      <td>50.20</td>\n",
       "      <td>25.823522</td>\n",
       "      <td>1.0</td>\n",
       "      <td>34.75</td>\n",
       "      <td>50.0</td>\n",
       "      <td>73.00</td>\n",
       "      <td>99.0</td>\n",
       "    </tr>\n",
       "  </tbody>\n",
       "</table>\n",
       "</div>"
      ],
      "text/plain": [
       "                count    mean        std   min    25%    50%     75%    max\n",
       "CustomerID      200.0  100.50  57.879185   1.0  50.75  100.5  150.25  200.0\n",
       "Age             200.0   38.85  13.969007  18.0  28.75   36.0   49.00   70.0\n",
       "annual_income   200.0   60.56  26.264721  15.0  41.50   61.5   78.00  137.0\n",
       "spending_score  200.0   50.20  25.823522   1.0  34.75   50.0   73.00   99.0"
      ]
     },
     "execution_count": 8,
     "metadata": {},
     "output_type": "execute_result"
    }
   ],
   "source": [
    "df.describe().T"
   ]
  },
  {
   "cell_type": "markdown",
   "id": "5546ea8d",
   "metadata": {},
   "source": [
    "* Looks like annual income has right skewed distribution and has outliers"
   ]
  },
  {
   "cell_type": "code",
   "execution_count": 9,
   "id": "9961553b",
   "metadata": {},
   "outputs": [
    {
     "data": {
      "image/png": "[encoded data removed]",
      "text/plain": [
       "<Figure size 500x500 with 1 Axes>"
      ]
     },
     "metadata": {},
     "output_type": "display_data"
    }
   ],
   "source": [
    "plt.figure(figsize=(5,5))\n",
    "ax = sns.countplot(x=\"Gender\", data=df)\n",
    "plt.xlabel('Gender')\n",
    "\n",
    "for p in ax.patches:\n",
    "       ax.annotate('{:.1f}'.format(p.get_height()), (p.get_x()+0.25, p.get_height()+0.01))"
   ]
  },
  {
   "cell_type": "markdown",
   "id": "e77ff0a0",
   "metadata": {},
   "source": [
    "* Both gender have balanced contribution to the dataset"
   ]
  },
  {
   "cell_type": "code",
   "execution_count": 10,
   "id": "094de884",
   "metadata": {
    "scrolled": false
   },
   "outputs": [
    {
     "data": {
      "image/png": "[encoded data removed]",
      "text/plain": [
       "<Figure size 1000x1000 with 3 Axes>"
      ]
     },
     "metadata": {},
     "output_type": "display_data"
    }
   ],
   "source": [
    "#distribution of numerical features\n",
    "num_feat = ['Age', 'annual_income', 'spending_score']\n",
    "\n",
    "plt.figure(figsize=(10,10))\n",
    "\n",
    "for i, col in enumerate(num_feat, 1):\n",
    "    plt.subplot(2,2,i)\n",
    "    sns.distplot(df[col])"
   ]
  },
  {
   "cell_type": "markdown",
   "id": "cb8b95b1",
   "metadata": {},
   "source": [
    "* Age and annual income has right skewed distribution\n",
    "* More number of customers have spending score in range 40 - 60"
   ]
  },
  {
   "cell_type": "markdown",
   "id": "97843588",
   "metadata": {},
   "source": [
    "### Data Preprocessing"
   ]
  },
  {
   "cell_type": "code",
   "execution_count": 11,
   "id": "4d46f3a3",
   "metadata": {},
   "outputs": [
    {
     "data": {
      "text/plain": [
       "CustomerID        0\n",
       "Gender            0\n",
       "Age               0\n",
       "annual_income     0\n",
       "spending_score    0\n",
       "dtype: int64"
      ]
     },
     "execution_count": 11,
     "metadata": {},
     "output_type": "execute_result"
    }
   ],
   "source": [
    "#checking for null values\n",
    "df.isnull().sum()"
   ]
  },
  {
   "cell_type": "code",
   "execution_count": 12,
   "id": "aade9253",
   "metadata": {},
   "outputs": [
    {
     "data": {
      "text/plain": [
       "0"
      ]
     },
     "execution_count": 12,
     "metadata": {},
     "output_type": "execute_result"
    }
   ],
   "source": [
    "#checking for duplicated entries\n",
    "df.duplicated().sum()"
   ]
  },
  {
   "cell_type": "code",
   "execution_count": 15,
   "id": "8bce3892",
   "metadata": {
    "scrolled": false
   },
   "outputs": [
    {
     "data": {
      "image/png": "[encoded data removed]",
      "text/plain": [
       "<Figure size 1000x500 with 3 Axes>"
      ]
     },
     "metadata": {},
     "output_type": "display_data"
    }
   ],
   "source": [
    "#checking for outliers\n",
    "plt.figure(figsize=(10,5))\n",
    "\n",
    "for i, col in enumerate(num_feat, 1):\n",
    "    plt.subplot(2,2,i)\n",
    "    sns.boxplot(x=df[col])"
   ]
  },
  {
   "cell_type": "code",
   "execution_count": 18,
   "id": "46fe2fb1",
   "metadata": {},
   "outputs": [],
   "source": [
    "#handling outliers\n",
    "q1 = df['annual_income'].quantile(0.25)\n",
    "q3 = df['annual_income'].quantile(0.75)\n",
    "\n",
    "iqr = q3 - q1\n",
    "upper_limit = q3 + 1.5 * iqr\n",
    "lower_limit = q1 - 1.5 * iqr\n",
    "\n",
    "df = df[df['annual_income'] < upper_limit]"
   ]
  },
  {
   "cell_type": "code",
   "execution_count": 24,
   "id": "34b392ea",
   "metadata": {},
   "outputs": [
    {
     "data": {
      "text/plain": [
       "<AxesSubplot: xlabel='annual_income'>"
      ]
     },
     "execution_count": 24,
     "metadata": {},
     "output_type": "execute_result"
    },
    {
     "data": {
      "image/png": "[encoded data removed]",
      "text/plain": [
       "<Figure size 500x200 with 1 Axes>"
      ]
     },
     "metadata": {},
     "output_type": "display_data"
    }
   ],
   "source": [
    "plt.figure(figsize=(5,2))\n",
    "sns.boxplot(x= df['annual_income'])"
   ]
  },
  {
   "cell_type": "code",
   "execution_count": 25,
   "id": "a3033ed7",
   "metadata": {},
   "outputs": [],
   "source": [
    "#encoding gender column\n",
    "df['Gender'] = [1 if x == 'Male' else 0 for x in df['Gender']]"
   ]
  },
  {
   "cell_type": "code",
   "execution_count": 28,
   "id": "bba78ef1",
   "metadata": {},
   "outputs": [
    {
     "data": {
      "text/plain": [
       "0    112\n",
       "1     86\n",
       "Name: Gender, dtype: int64"
      ]
     },
     "execution_count": 28,
     "metadata": {},
     "output_type": "execute_result"
    }
   ],
   "source": [
    "df['Gender'].value_counts()"
   ]
  },
  {
   "cell_type": "code",
   "execution_count": 32,
   "id": "daa280cf",
   "metadata": {},
   "outputs": [],
   "source": [
    "#dropping customerID column\n",
    "df = df.drop('CustomerID', axis=1)"
   ]
  },
  {
   "cell_type": "code",
   "execution_count": 33,
   "id": "890f46e9",
   "metadata": {},
   "outputs": [
    {
     "data": {
      "text/html": [
       "<div>\n",
       "<style scoped>\n",
       "    .dataframe tbody tr th:only-of-type {\n",
       "        vertical-align: middle;\n",
       "    }\n",
       "\n",
       "    .dataframe tbody tr th {\n",
       "        vertical-align: top;\n",
       "    }\n",
       "\n",
       "    .dataframe thead th {\n",
       "        text-align: right;\n",
       "    }\n",
       "</style>\n",
       "<table border=\"1\" class=\"dataframe\">\n",
       "  <thead>\n",
       "    <tr style=\"text-align: right;\">\n",
       "      <th></th>\n",
       "      <th>Gender</th>\n",
       "      <th>Age</th>\n",
       "      <th>annual_income</th>\n",
       "      <th>spending_score</th>\n",
       "    </tr>\n",
       "  </thead>\n",
       "  <tbody>\n",
       "    <tr>\n",
       "      <th>0</th>\n",
       "      <td>1</td>\n",
       "      <td>19</td>\n",
       "      <td>15</td>\n",
       "      <td>39</td>\n",
       "    </tr>\n",
       "    <tr>\n",
       "      <th>1</th>\n",
       "      <td>1</td>\n",
       "      <td>21</td>\n",
       "      <td>15</td>\n",
       "      <td>81</td>\n",
       "    </tr>\n",
       "    <tr>\n",
       "      <th>2</th>\n",
       "      <td>0</td>\n",
       "      <td>20</td>\n",
       "      <td>16</td>\n",
       "      <td>6</td>\n",
       "    </tr>\n",
       "    <tr>\n",
       "      <th>3</th>\n",
       "      <td>0</td>\n",
       "      <td>23</td>\n",
       "      <td>16</td>\n",
       "      <td>77</td>\n",
       "    </tr>\n",
       "    <tr>\n",
       "      <th>4</th>\n",
       "      <td>0</td>\n",
       "      <td>31</td>\n",
       "      <td>17</td>\n",
       "      <td>40</td>\n",
       "    </tr>\n",
       "  </tbody>\n",
       "</table>\n",
       "</div>"
      ],
      "text/plain": [
       "   Gender  Age  annual_income  spending_score\n",
       "0       1   19             15              39\n",
       "1       1   21             15              81\n",
       "2       0   20             16               6\n",
       "3       0   23             16              77\n",
       "4       0   31             17              40"
      ]
     },
     "execution_count": 33,
     "metadata": {},
     "output_type": "execute_result"
    }
   ],
   "source": [
    "df.head()"
   ]
  },
  {
   "cell_type": "code",
   "execution_count": 38,
   "id": "4941845d",
   "metadata": {
    "scrolled": true
   },
   "outputs": [
    {
     "data": {
      "text/plain": [
       "array([[  1,  19,  15,  39],\n",
       "       [  1,  21,  15,  81],\n",
       "       [  0,  20,  16,   6],\n",
       "       [  0,  23,  16,  77],\n",
       "       [  0,  31,  17,  40],\n",
       "       [  0,  22,  17,  76],\n",
       "       [  0,  35,  18,   6],\n",
       "       [  0,  23,  18,  94],\n",
       "       [  1,  64,  19,   3],\n",
       "       [  0,  30,  19,  72],\n",
       "       [  1,  67,  19,  14],\n",
       "       [  0,  35,  19,  99],\n",
       "       [  0,  58,  20,  15],\n",
       "       [  0,  24,  20,  77],\n",
       "       [  1,  37,  20,  13],\n",
       "       [  1,  22,  20,  79],\n",
       "       [  0,  35,  21,  35],\n",
       "       [  1,  20,  21,  66],\n",
       "       [  1,  52,  23,  29],\n",
       "       [  0,  35,  23,  98],\n",
       "       [  1,  35,  24,  35],\n",
       "       [  1,  25,  24,  73],\n",
       "       [  0,  46,  25,   5],\n",
       "       [  1,  31,  25,  73],\n",
       "       [  0,  54,  28,  14],\n",
       "       [  1,  29,  28,  82],\n",
       "       [  0,  45,  28,  32],\n",
       "       [  1,  35,  28,  61],\n",
       "       [  0,  40,  29,  31],\n",
       "       [  0,  23,  29,  87],\n",
       "       [  1,  60,  30,   4],\n",
       "       [  0,  21,  30,  73],\n",
       "       [  1,  53,  33,   4],\n",
       "       [  1,  18,  33,  92],\n",
       "       [  0,  49,  33,  14],\n",
       "       [  0,  21,  33,  81],\n",
       "       [  0,  42,  34,  17],\n",
       "       [  0,  30,  34,  73],\n",
       "       [  0,  36,  37,  26],\n",
       "       [  0,  20,  37,  75],\n",
       "       [  0,  65,  38,  35],\n",
       "       [  1,  24,  38,  92],\n",
       "       [  1,  48,  39,  36],\n",
       "       [  0,  31,  39,  61],\n",
       "       [  0,  49,  39,  28],\n",
       "       [  0,  24,  39,  65],\n",
       "       [  0,  50,  40,  55],\n",
       "       [  0,  27,  40,  47],\n",
       "       [  0,  29,  40,  42],\n",
       "       [  0,  31,  40,  42],\n",
       "       [  0,  49,  42,  52],\n",
       "       [  1,  33,  42,  60],\n",
       "       [  0,  31,  43,  54],\n",
       "       [  1,  59,  43,  60],\n",
       "       [  0,  50,  43,  45],\n",
       "       [  1,  47,  43,  41],\n",
       "       [  0,  51,  44,  50],\n",
       "       [  1,  69,  44,  46],\n",
       "       [  0,  27,  46,  51],\n",
       "       [  1,  53,  46,  46],\n",
       "       [  1,  70,  46,  56],\n",
       "       [  1,  19,  46,  55],\n",
       "       [  0,  67,  47,  52],\n",
       "       [  0,  54,  47,  59],\n",
       "       [  1,  63,  48,  51],\n",
       "       [  1,  18,  48,  59],\n",
       "       [  0,  43,  48,  50],\n",
       "       [  0,  68,  48,  48],\n",
       "       [  1,  19,  48,  59],\n",
       "       [  0,  32,  48,  47],\n",
       "       [  1,  70,  49,  55],\n",
       "       [  0,  47,  49,  42],\n",
       "       [  0,  60,  50,  49],\n",
       "       [  0,  60,  50,  56],\n",
       "       [  1,  59,  54,  47],\n",
       "       [  1,  26,  54,  54],\n",
       "       [  0,  45,  54,  53],\n",
       "       [  1,  40,  54,  48],\n",
       "       [  0,  23,  54,  52],\n",
       "       [  0,  49,  54,  42],\n",
       "       [  1,  57,  54,  51],\n",
       "       [  1,  38,  54,  55],\n",
       "       [  1,  67,  54,  41],\n",
       "       [  0,  46,  54,  44],\n",
       "       [  0,  21,  54,  57],\n",
       "       [  1,  48,  54,  46],\n",
       "       [  0,  55,  57,  58],\n",
       "       [  0,  22,  57,  55],\n",
       "       [  0,  34,  58,  60],\n",
       "       [  0,  50,  58,  46],\n",
       "       [  0,  68,  59,  55],\n",
       "       [  1,  18,  59,  41],\n",
       "       [  1,  48,  60,  49],\n",
       "       [  0,  40,  60,  40],\n",
       "       [  0,  32,  60,  42],\n",
       "       [  1,  24,  60,  52],\n",
       "       [  0,  47,  60,  47],\n",
       "       [  0,  27,  60,  50],\n",
       "       [  1,  48,  61,  42],\n",
       "       [  1,  20,  61,  49],\n",
       "       [  0,  23,  62,  41],\n",
       "       [  0,  49,  62,  48],\n",
       "       [  1,  67,  62,  59],\n",
       "       [  1,  26,  62,  55],\n",
       "       [  1,  49,  62,  56],\n",
       "       [  0,  21,  62,  42],\n",
       "       [  0,  66,  63,  50],\n",
       "       [  1,  54,  63,  46],\n",
       "       [  1,  68,  63,  43],\n",
       "       [  1,  66,  63,  48],\n",
       "       [  1,  65,  63,  52],\n",
       "       [  0,  19,  63,  54],\n",
       "       [  0,  38,  64,  42],\n",
       "       [  1,  19,  64,  46],\n",
       "       [  0,  18,  65,  48],\n",
       "       [  0,  19,  65,  50],\n",
       "       [  0,  63,  65,  43],\n",
       "       [  0,  49,  65,  59],\n",
       "       [  0,  51,  67,  43],\n",
       "       [  0,  50,  67,  57],\n",
       "       [  1,  27,  67,  56],\n",
       "       [  0,  38,  67,  40],\n",
       "       [  0,  40,  69,  58],\n",
       "       [  1,  39,  69,  91],\n",
       "       [  0,  23,  70,  29],\n",
       "       [  0,  31,  70,  77],\n",
       "       [  1,  43,  71,  35],\n",
       "       [  1,  40,  71,  95],\n",
       "       [  1,  59,  71,  11],\n",
       "       [  1,  38,  71,  75],\n",
       "       [  1,  47,  71,   9],\n",
       "       [  1,  39,  71,  75],\n",
       "       [  0,  25,  72,  34],\n",
       "       [  0,  31,  72,  71],\n",
       "       [  1,  20,  73,   5],\n",
       "       [  0,  29,  73,  88],\n",
       "       [  0,  44,  73,   7],\n",
       "       [  1,  32,  73,  73],\n",
       "       [  1,  19,  74,  10],\n",
       "       [  0,  35,  74,  72],\n",
       "       [  0,  57,  75,   5],\n",
       "       [  1,  32,  75,  93],\n",
       "       [  0,  28,  76,  40],\n",
       "       [  0,  32,  76,  87],\n",
       "       [  1,  25,  77,  12],\n",
       "       [  1,  28,  77,  97],\n",
       "       [  1,  48,  77,  36],\n",
       "       [  0,  32,  77,  74],\n",
       "       [  0,  34,  78,  22],\n",
       "       [  1,  34,  78,  90],\n",
       "       [  1,  43,  78,  17],\n",
       "       [  1,  39,  78,  88],\n",
       "       [  0,  44,  78,  20],\n",
       "       [  0,  38,  78,  76],\n",
       "       [  0,  47,  78,  16],\n",
       "       [  0,  27,  78,  89],\n",
       "       [  1,  37,  78,   1],\n",
       "       [  0,  30,  78,  78],\n",
       "       [  1,  34,  78,   1],\n",
       "       [  0,  30,  78,  73],\n",
       "       [  0,  56,  79,  35],\n",
       "       [  0,  29,  79,  83],\n",
       "       [  1,  19,  81,   5],\n",
       "       [  0,  31,  81,  93],\n",
       "       [  1,  50,  85,  26],\n",
       "       [  0,  36,  85,  75],\n",
       "       [  1,  42,  86,  20],\n",
       "       [  0,  33,  86,  95],\n",
       "       [  0,  36,  87,  27],\n",
       "       [  1,  32,  87,  63],\n",
       "       [  1,  40,  87,  13],\n",
       "       [  1,  28,  87,  75],\n",
       "       [  1,  36,  87,  10],\n",
       "       [  1,  36,  87,  92],\n",
       "       [  0,  52,  88,  13],\n",
       "       [  0,  30,  88,  86],\n",
       "       [  1,  58,  88,  15],\n",
       "       [  1,  27,  88,  69],\n",
       "       [  1,  59,  93,  14],\n",
       "       [  1,  35,  93,  90],\n",
       "       [  0,  37,  97,  32],\n",
       "       [  0,  32,  97,  86],\n",
       "       [  1,  46,  98,  15],\n",
       "       [  0,  29,  98,  88],\n",
       "       [  0,  41,  99,  39],\n",
       "       [  1,  30,  99,  97],\n",
       "       [  0,  54, 101,  24],\n",
       "       [  1,  28, 101,  68],\n",
       "       [  0,  41, 103,  17],\n",
       "       [  0,  36, 103,  85],\n",
       "       [  0,  34, 103,  23],\n",
       "       [  0,  32, 103,  69],\n",
       "       [  1,  33, 113,   8],\n",
       "       [  0,  38, 113,  91],\n",
       "       [  0,  47, 120,  16],\n",
       "       [  0,  35, 120,  79],\n",
       "       [  0,  45, 126,  28],\n",
       "       [  1,  32, 126,  74]], dtype=int64)"
      ]
     },
     "execution_count": 38,
     "metadata": {},
     "output_type": "execute_result"
    }
   ],
   "source": [
    "#creating feature matrix\n",
    "X = df.values\n",
    "X"
   ]
  },
  {
   "cell_type": "code",
   "execution_count": 39,
   "id": "80e38497",
   "metadata": {},
   "outputs": [],
   "source": [
    "#feature scaling\n",
    "from sklearn.preprocessing import MinMaxScaler\n",
    "\n",
    "scaler = MinMaxScaler()\n",
    "X = scaler.fit_transform(X)"
   ]
  }
 ],
 "metadata": {
  "kernelspec": {
   "display_name": "env",
   "language": "python",
   "name": "env"
  },
  "language_info": {
   "codemirror_mode": {
    "name": "ipython",
    "version": 3
   },
   "file_extension": ".py",
   "mimetype": "text/x-python",
   "name": "python",
   "nbconvert_exporter": "python",
   "pygments_lexer": "ipython3",
   "version": "3.10.7"
  }
 },
 "nbformat": 4,
 "nbformat_minor": 5
}
